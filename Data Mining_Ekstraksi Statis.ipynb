{
 "cells": [
  {
   "cell_type": "code",
   "execution_count": 1,
   "id": "e9ddb41d",
   "metadata": {},
   "outputs": [
    {
     "name": "stdout",
     "output_type": "stream",
     "text": [
      "Mengambil data dari: http://quotes.toscrape.com/\n",
      "\n",
      "Berhasil menemukan 10 kutipan:\n",
      "\n",
      "\"“The world as we have created it is a process of our thinking. It cannot be changed without changing our thinking.”\" - Albert Einstein\n",
      "---\n",
      "\"“It is our choices, Harry, that show what we truly are, far more than our abilities.”\" - J.K. Rowling\n",
      "---\n",
      "\"“There are only two ways to live your life. One is as though nothing is a miracle. The other is as though everything is a miracle.”\" - Albert Einstein\n",
      "---\n",
      "\"“The person, be it gentleman or lady, who has not pleasure in a good novel, must be intolerably stupid.”\" - Jane Austen\n",
      "---\n",
      "\"“Imperfection is beauty, madness is genius and it's better to be absolutely ridiculous than absolutely boring.”\" - Marilyn Monroe\n",
      "---\n",
      "\"“Try not to become a man of success. Rather become a man of value.”\" - Albert Einstein\n",
      "---\n",
      "\"“It is better to be hated for what you are than to be loved for what you are not.”\" - André Gide\n",
      "---\n",
      "\"“I have not failed. I've just found 10,000 ways that won't work.”\" - Thomas A. Edison\n",
      "---\n",
      "\"“A woman is like a tea bag; you never know how strong it is until it's in hot water.”\" - Eleanor Roosevelt\n",
      "---\n",
      "\"“A day without sunshine is like, you know, night.”\" - Steve Martin\n",
      "---\n"
     ]
    }
   ],
   "source": [
    "# Pastikan install libraries:\n",
    "# pip install requests beautifulsoup4\n",
    "\n",
    "import requests\n",
    "from bs4 import BeautifulSoup\n",
    "\n",
    "# Target: Website dummy untuk latihan scraping (statis)\n",
    "url = 'http://quotes.toscrape.com/'\n",
    "\n",
    "print(f\"Mengambil data dari: {url}\\n\")\n",
    "response = requests.get(url)\n",
    "\n",
    "# Cek apakah request berhasil\n",
    "if response.status_code == 200:\n",
    "    # Parsing HTML\n",
    "    soup = BeautifulSoup(response.text, 'html.parser')\n",
    "    \n",
    "    # Mencari semua elemen <div> dengan class 'quote'\n",
    "    # (Sesuai hasil inspeksi kita)\n",
    "    quotes = soup.find_all('div', class_='quote')\n",
    "    \n",
    "    if not quotes:\n",
    "        print(\"Tidak menemukan elemen <div> dengan class 'quote'.\")\n",
    "    else:\n",
    "        print(f\"Berhasil menemukan {len(quotes)} kutipan:\\n\")\n",
    "        \n",
    "        # Iterasi setiap kutipan dan ekstrak teks dan author\n",
    "        for quote in quotes:\n",
    "            # Mencari tag <span> dengan class 'text' di *dalam* div 'quote'\n",
    "            text = quote.find('span', class_='text').get_text(strip=True)\n",
    "            \n",
    "            # Mencari tag <small> dengan class 'author'\n",
    "            author = quote.find('small', class_='author').get_text(strip=True)\n",
    "            \n",
    "            print(f'\"{text}\" - {author}')\n",
    "            print('---')\n",
    "\n",
    "else:\n",
    "    print(f\"Gagal mengambil halaman. Status Code: {response.status_code}\")"
   ]
  },
  {
   "cell_type": "code",
   "execution_count": null,
   "id": "640a14f7",
   "metadata": {},
   "outputs": [],
   "source": []
  }
 ],
 "metadata": {
  "kernelspec": {
   "display_name": "Python 3",
   "language": "python",
   "name": "python3"
  },
  "language_info": {
   "codemirror_mode": {
    "name": "ipython",
    "version": 3
   },
   "file_extension": ".py",
   "mimetype": "text/x-python",
   "name": "python",
   "nbconvert_exporter": "python",
   "pygments_lexer": "ipython3",
   "version": "3.13.7"
  }
 },
 "nbformat": 4,
 "nbformat_minor": 5
}
